{
 "cells": [
  {
   "cell_type": "code",
   "execution_count": 10,
   "metadata": {},
   "outputs": [],
   "source": [
    "import requests\n",
    "\n",
    "\n",
    "r = requests.get('https://ruz.fa.ru/api/schedule/group/110687?start=2023.10.09&finish=2023.10.09&lng=1')\n",
    "r = r.json()"
   ]
  },
  {
   "cell_type": "code",
   "execution_count": 16,
   "metadata": {},
   "outputs": [
    {
     "name": "stdout",
     "output_type": "stream",
     "text": [
      "['auditorium', 'auditoriumAmount', 'auditoriumGUID', 'auditoriumOid', 'auditoriumfloor', 'author', 'beginLesson', 'building', 'buildingGid', 'buildingOid', 'contentOfLoadOid', 'contentOfLoadUID', 'contentTableOfLessonsName', 'contentTableOfLessonsOid', 'createddate', 'date', 'dateOfNest', 'dayOfWeek', 'dayOfWeekString', 'detailInfo', 'discipline', 'disciplineOid', 'disciplineinplan', 'disciplinetypeload', 'duration', 'endLesson', 'group', 'groupGUID', 'groupOid', 'groupUID', 'group_facultyname', 'group_facultyoid', 'hideincapacity', 'isBan', 'kindOfWork', 'kindOfWorkComplexity', 'kindOfWorkOid', 'kindOfWorkUid', 'lecturer', 'lecturerCustomUID', 'lecturerEmail', 'lecturerGUID', 'lecturerOid', 'lecturerUID', 'lecturer_post_oid', 'lecturer_rank', 'lecturer_title', 'lessonNumberEnd', 'lessonNumberStart', 'lessonOid', 'listGroups', 'listOfLecturers', 'modifieddate', 'note', 'note_description', 'openlesson', 'parentSchedule_Status', 'parentschedule', 'replaces', 'specialization_name', 'specialization_oid', 'stream', 'streamOid', 'stream_facultyoid', 'subGroup', 'subGroupOid', 'subgroup_facultyoid', 'subgroup_groupOid', 'tableofLessonsName', 'tableofLessonsOid', 'url1', 'url1_description', 'url2', 'url2_description']\n",
      "['auditorium', 'auditoriumAmount', 'auditoriumGUID', 'auditoriumOid', 'auditoriumfloor', 'author', 'beginLesson', 'building', 'buildingGid', 'buildingOid', 'contentOfLoadOid', 'contentOfLoadUID', 'contentTableOfLessonsName', 'contentTableOfLessonsOid', 'createddate', 'date', 'dateOfNest', 'dayOfWeek', 'dayOfWeekString', 'detailInfo', 'discipline', 'disciplineOid', 'disciplineinplan', 'disciplinetypeload', 'duration', 'endLesson', 'group', 'groupGUID', 'groupOid', 'groupUID', 'group_facultyname', 'group_facultyoid', 'hideincapacity', 'isBan', 'kindOfWork', 'kindOfWorkComplexity', 'kindOfWorkOid', 'kindOfWorkUid', 'lecturer', 'lecturerCustomUID', 'lecturerEmail', 'lecturerGUID', 'lecturerOid', 'lecturerUID', 'lecturer_post_oid', 'lecturer_rank', 'lecturer_title', 'lessonNumberEnd', 'lessonNumberStart', 'lessonOid', 'listGroups', 'listOfLecturers', 'modifieddate', 'note', 'note_description', 'openlesson', 'parentSchedule_Status', 'parentschedule', 'replaces', 'specialization_name', 'specialization_oid', 'stream', 'streamOid', 'stream_facultyoid', 'subGroup', 'subGroupOid', 'subgroup_facultyoid', 'subgroup_groupOid', 'tableofLessonsName', 'tableofLessonsOid', 'url1', 'url1_description', 'url2', 'url2_description']\n",
      "['auditorium', 'auditoriumAmount', 'auditoriumGUID', 'auditoriumOid', 'auditoriumfloor', 'author', 'beginLesson', 'building', 'buildingGid', 'buildingOid', 'contentOfLoadOid', 'contentOfLoadUID', 'contentTableOfLessonsName', 'contentTableOfLessonsOid', 'createddate', 'date', 'dateOfNest', 'dayOfWeek', 'dayOfWeekString', 'detailInfo', 'discipline', 'disciplineOid', 'disciplineinplan', 'disciplinetypeload', 'duration', 'endLesson', 'group', 'groupGUID', 'groupOid', 'groupUID', 'group_facultyname', 'group_facultyoid', 'hideincapacity', 'isBan', 'kindOfWork', 'kindOfWorkComplexity', 'kindOfWorkOid', 'kindOfWorkUid', 'lecturer', 'lecturerCustomUID', 'lecturerEmail', 'lecturerGUID', 'lecturerOid', 'lecturerUID', 'lecturer_post_oid', 'lecturer_rank', 'lecturer_title', 'lessonNumberEnd', 'lessonNumberStart', 'lessonOid', 'listGroups', 'listOfLecturers', 'modifieddate', 'note', 'note_description', 'openlesson', 'parentSchedule_Status', 'parentschedule', 'replaces', 'specialization_name', 'specialization_oid', 'stream', 'streamOid', 'stream_facultyoid', 'subGroup', 'subGroupOid', 'subgroup_facultyoid', 'subgroup_groupOid', 'tableofLessonsName', 'tableofLessonsOid', 'url1', 'url1_description', 'url2', 'url2_description']\n",
      "['auditorium', 'auditoriumAmount', 'auditoriumGUID', 'auditoriumOid', 'auditoriumfloor', 'author', 'beginLesson', 'building', 'buildingGid', 'buildingOid', 'contentOfLoadOid', 'contentOfLoadUID', 'contentTableOfLessonsName', 'contentTableOfLessonsOid', 'createddate', 'date', 'dateOfNest', 'dayOfWeek', 'dayOfWeekString', 'detailInfo', 'discipline', 'disciplineOid', 'disciplineinplan', 'disciplinetypeload', 'duration', 'endLesson', 'group', 'groupGUID', 'groupOid', 'groupUID', 'group_facultyname', 'group_facultyoid', 'hideincapacity', 'isBan', 'kindOfWork', 'kindOfWorkComplexity', 'kindOfWorkOid', 'kindOfWorkUid', 'lecturer', 'lecturerCustomUID', 'lecturerEmail', 'lecturerGUID', 'lecturerOid', 'lecturerUID', 'lecturer_post_oid', 'lecturer_rank', 'lecturer_title', 'lessonNumberEnd', 'lessonNumberStart', 'lessonOid', 'listGroups', 'listOfLecturers', 'modifieddate', 'note', 'note_description', 'openlesson', 'parentSchedule_Status', 'parentschedule', 'replaces', 'specialization_name', 'specialization_oid', 'stream', 'streamOid', 'stream_facultyoid', 'subGroup', 'subGroupOid', 'subgroup_facultyoid', 'subgroup_groupOid', 'tableofLessonsName', 'tableofLessonsOid', 'url1', 'url1_description', 'url2', 'url2_description']\n",
      "['auditorium', 'auditoriumAmount', 'auditoriumGUID', 'auditoriumOid', 'auditoriumfloor', 'author', 'beginLesson', 'building', 'buildingGid', 'buildingOid', 'contentOfLoadOid', 'contentOfLoadUID', 'contentTableOfLessonsName', 'contentTableOfLessonsOid', 'createddate', 'date', 'dateOfNest', 'dayOfWeek', 'dayOfWeekString', 'detailInfo', 'discipline', 'disciplineOid', 'disciplineinplan', 'disciplinetypeload', 'duration', 'endLesson', 'group', 'groupGUID', 'groupOid', 'groupUID', 'group_facultyname', 'group_facultyoid', 'hideincapacity', 'isBan', 'kindOfWork', 'kindOfWorkComplexity', 'kindOfWorkOid', 'kindOfWorkUid', 'lecturer', 'lecturerCustomUID', 'lecturerEmail', 'lecturerGUID', 'lecturerOid', 'lecturerUID', 'lecturer_post_oid', 'lecturer_rank', 'lecturer_title', 'lessonNumberEnd', 'lessonNumberStart', 'lessonOid', 'listGroups', 'listOfLecturers', 'modifieddate', 'note', 'note_description', 'openlesson', 'parentSchedule_Status', 'parentschedule', 'replaces', 'specialization_name', 'specialization_oid', 'stream', 'streamOid', 'stream_facultyoid', 'subGroup', 'subGroupOid', 'subgroup_facultyoid', 'subgroup_groupOid', 'tableofLessonsName', 'tableofLessonsOid', 'url1', 'url1_description', 'url2', 'url2_description']\n",
      "['auditorium', 'auditoriumAmount', 'auditoriumGUID', 'auditoriumOid', 'auditoriumfloor', 'author', 'beginLesson', 'building', 'buildingGid', 'buildingOid', 'contentOfLoadOid', 'contentOfLoadUID', 'contentTableOfLessonsName', 'contentTableOfLessonsOid', 'createddate', 'date', 'dateOfNest', 'dayOfWeek', 'dayOfWeekString', 'detailInfo', 'discipline', 'disciplineOid', 'disciplineinplan', 'disciplinetypeload', 'duration', 'endLesson', 'group', 'groupGUID', 'groupOid', 'groupUID', 'group_facultyname', 'group_facultyoid', 'hideincapacity', 'isBan', 'kindOfWork', 'kindOfWorkComplexity', 'kindOfWorkOid', 'kindOfWorkUid', 'lecturer', 'lecturerCustomUID', 'lecturerEmail', 'lecturerGUID', 'lecturerOid', 'lecturerUID', 'lecturer_post_oid', 'lecturer_rank', 'lecturer_title', 'lessonNumberEnd', 'lessonNumberStart', 'lessonOid', 'listGroups', 'listOfLecturers', 'modifieddate', 'note', 'note_description', 'openlesson', 'parentSchedule_Status', 'parentschedule', 'replaces', 'specialization_name', 'specialization_oid', 'stream', 'streamOid', 'stream_facultyoid', 'subGroup', 'subGroupOid', 'subgroup_facultyoid', 'subgroup_groupOid', 'tableofLessonsName', 'tableofLessonsOid', 'url1', 'url1_description', 'url2', 'url2_description']\n"
     ]
    }
   ],
   "source": [
    "for item in r:\n",
    "    print(list(item.keys()))"
   ]
  },
  {
   "cell_type": "markdown",
   "metadata": {},
   "source": [
    "## texttospeechrobot.com/"
   ]
  },
  {
   "cell_type": "code",
   "execution_count": 26,
   "metadata": {},
   "outputs": [],
   "source": [
    "import requests\n",
    "import os\n",
    "from random import choice\n",
    "\n",
    "\n",
    "def get_audio_files(text, folder_name):\n",
    "    UPLOAD_FOLDER = '..\\\\data\\\\audio\\\\' + folder_name\n",
    "    SPEAKERS = [\n",
    "        'ermil_with_tuning',\n",
    "        'kostya',\n",
    "        'anton_samokhvalov',\n",
    "        'tanya',\n",
    "        'nick',\n",
    "        'levitan',\n",
    "        'silaerkan',\n",
    "        'smoky',\n",
    "        'oksana',\n",
    "        'erkanyavas',\n",
    "        'zhenya',\n",
    "        'tatyana_abramova',\n",
    "        'jane',\n",
    "        'nastya',\n",
    "        'omazh',\n",
    "        'ermilov',\n",
    "        'kolya',\n",
    "        'voicesearch',\n",
    "        'sasha',\n",
    "        'alyss',\n",
    "        'robot',\n",
    "        'zombie',\n",
    "        'dude',\n",
    "    ]\n",
    "    EMOTIONS = ['neutral', 'good', 'evil']\n",
    "    STATIC_PARAMS = {\n",
    "            'format': 'mp3',\n",
    "            'lang': 'ru_RU',\n",
    "            'speed': '1.5',\n",
    "            'robot': '1',\n",
    "            'text': text\n",
    "    }\n",
    "    ADDRESS = 'https://tts.voicetech.yandex.net/tts'\n",
    "\n",
    "    i = 0\n",
    "    if not os.path.isdir(UPLOAD_FOLDER):\n",
    "        os.mkdir(UPLOAD_FOLDER)\n",
    "\n",
    "    for speaker in SPEAKERS:\n",
    "\n",
    "        params = STATIC_PARAMS | {\n",
    "            'emotion': choice(EMOTIONS),\n",
    "            'speaker': speaker\n",
    "        }\n",
    "        r = requests.get(url=ADDRESS, params=params)\n",
    "\n",
    "        file_name = folder_name + str(i) + \".mp3\"\n",
    "        full_file_name = os.path.join(UPLOAD_FOLDER, file_name)\n",
    "\n",
    "        with open(full_file_name, 'wb') as f:\n",
    "            f.write(r.content)\n",
    "        \n",
    "        i += 1\n",
    "    \n",
    "    print(f'Saved files: {i}')"
   ]
  },
  {
   "cell_type": "code",
   "execution_count": 27,
   "metadata": {},
   "outputs": [
    {
     "name": "stdout",
     "output_type": "stream",
     "text": [
      "Saved files: 23\n"
     ]
    },
    {
     "ename": "",
     "evalue": "",
     "output_type": "error",
     "traceback": [
      "\u001b[1;31mThe Kernel crashed while executing code in the the current cell or a previous cell. Please review the code in the cell(s) to identify a possible cause of the failure. Click <a href='https://aka.ms/vscodeJupyterKernelCrash'>here</a> for more info. View Jupyter <a href='command:jupyter.viewOutput'>log</a> for further details."
     ]
    }
   ],
   "source": [
    "get_audio_files('Завтра', 'tomorrow')"
   ]
  },
  {
   "cell_type": "code",
   "execution_count": 1,
   "metadata": {},
   "outputs": [
    {
     "data": {
      "text/plain": [
       "2"
      ]
     },
     "execution_count": 1,
     "metadata": {},
     "output_type": "execute_result"
    }
   ],
   "source": [
    "1+1"
   ]
  },
  {
   "cell_type": "markdown",
   "metadata": {},
   "source": []
  }
 ],
 "metadata": {
  "kernelspec": {
   "display_name": "speech",
   "language": "python",
   "name": "python3"
  },
  "language_info": {
   "codemirror_mode": {
    "name": "ipython",
    "version": 3
   },
   "file_extension": ".py",
   "mimetype": "text/x-python",
   "name": "python",
   "nbconvert_exporter": "python",
   "pygments_lexer": "ipython3",
   "version": "3.10.13"
  }
 },
 "nbformat": 4,
 "nbformat_minor": 2
}
