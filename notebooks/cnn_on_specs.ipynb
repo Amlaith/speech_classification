{
 "cells": [
  {
   "cell_type": "code",
   "execution_count": 2,
   "metadata": {},
   "outputs": [
    {
     "ename": "error",
     "evalue": "OpenCV(4.6.0) C:\\b\\abs_f8n1j3l9l0\\croot\\opencv-suite_1691622637237\\work\\modules\\imgproc\\src\\resize.cpp:4052: error: (-215:Assertion failed) !ssize.empty() in function 'cv::resize'\n",
     "output_type": "error",
     "traceback": [
      "\u001b[1;31m---------------------------------------------------------------------------\u001b[0m",
      "\u001b[1;31merror\u001b[0m                                     Traceback (most recent call last)",
      "\u001b[1;32mc:\\Users\\burjo\\Documents\\speech_classification\\notebooks\\cnn_on_specs.ipynb Cell 1\u001b[0m line \u001b[0;36m3\n\u001b[0;32m     <a href='vscode-notebook-cell:/c%3A/Users/burjo/Documents/speech_classification/notebooks/cnn_on_specs.ipynb#W0sZmlsZQ%3D%3D?line=34'>35</a>\u001b[0m dataset_path \u001b[39m=\u001b[39m \u001b[39m'\u001b[39m\u001b[39m../data/specs\u001b[39m\u001b[39m'\u001b[39m\n\u001b[0;32m     <a href='vscode-notebook-cell:/c%3A/Users/burjo/Documents/speech_classification/notebooks/cnn_on_specs.ipynb#W0sZmlsZQ%3D%3D?line=36'>37</a>\u001b[0m \u001b[39m# Load spectrograms and labels\u001b[39;00m\n\u001b[1;32m---> <a href='vscode-notebook-cell:/c%3A/Users/burjo/Documents/speech_classification/notebooks/cnn_on_specs.ipynb#W0sZmlsZQ%3D%3D?line=37'>38</a>\u001b[0m X, y \u001b[39m=\u001b[39m load_spectrograms(dataset_path)\n\u001b[0;32m     <a href='vscode-notebook-cell:/c%3A/Users/burjo/Documents/speech_classification/notebooks/cnn_on_specs.ipynb#W0sZmlsZQ%3D%3D?line=39'>40</a>\u001b[0m \u001b[39m# Use LabelEncoder to convert string labels to numerical values\u001b[39;00m\n\u001b[0;32m     <a href='vscode-notebook-cell:/c%3A/Users/burjo/Documents/speech_classification/notebooks/cnn_on_specs.ipynb#W0sZmlsZQ%3D%3D?line=40'>41</a>\u001b[0m label_encoder \u001b[39m=\u001b[39m LabelEncoder()\n",
      "\u001b[1;32mc:\\Users\\burjo\\Documents\\speech_classification\\notebooks\\cnn_on_specs.ipynb Cell 1\u001b[0m line \u001b[0;36m2\n\u001b[0;32m     <a href='vscode-notebook-cell:/c%3A/Users/burjo/Documents/speech_classification/notebooks/cnn_on_specs.ipynb#W0sZmlsZQ%3D%3D?line=19'>20</a>\u001b[0m \u001b[39m# Read and resize the spectrogram image\u001b[39;00m\n\u001b[0;32m     <a href='vscode-notebook-cell:/c%3A/Users/burjo/Documents/speech_classification/notebooks/cnn_on_specs.ipynb#W0sZmlsZQ%3D%3D?line=20'>21</a>\u001b[0m img \u001b[39m=\u001b[39m cv2\u001b[39m.\u001b[39mimread(file_path, cv2\u001b[39m.\u001b[39mIMREAD_GRAYSCALE)\n\u001b[1;32m---> <a href='vscode-notebook-cell:/c%3A/Users/burjo/Documents/speech_classification/notebooks/cnn_on_specs.ipynb#W0sZmlsZQ%3D%3D?line=21'>22</a>\u001b[0m img \u001b[39m=\u001b[39m cv2\u001b[39m.\u001b[39;49mresize(img, (\u001b[39m224\u001b[39;49m, \u001b[39m224\u001b[39;49m))  \u001b[39m# Adjust the size as needed\u001b[39;00m\n\u001b[0;32m     <a href='vscode-notebook-cell:/c%3A/Users/burjo/Documents/speech_classification/notebooks/cnn_on_specs.ipynb#W0sZmlsZQ%3D%3D?line=23'>24</a>\u001b[0m \u001b[39m# Append the spectrogram and corresponding label to the lists\u001b[39;00m\n\u001b[0;32m     <a href='vscode-notebook-cell:/c%3A/Users/burjo/Documents/speech_classification/notebooks/cnn_on_specs.ipynb#W0sZmlsZQ%3D%3D?line=24'>25</a>\u001b[0m X\u001b[39m.\u001b[39mappend(img)\n",
      "\u001b[1;31merror\u001b[0m: OpenCV(4.6.0) C:\\b\\abs_f8n1j3l9l0\\croot\\opencv-suite_1691622637237\\work\\modules\\imgproc\\src\\resize.cpp:4052: error: (-215:Assertion failed) !ssize.empty() in function 'cv::resize'\n"
     ]
    }
   ],
   "source": [
    "import os\n",
    "import cv2\n",
    "import numpy as np\n",
    "from sklearn.model_selection import train_test_split\n",
    "from sklearn.preprocessing import LabelEncoder\n",
    "\n",
    "def load_spectrograms(dataset_path):\n",
    "    X = []\n",
    "    y = []\n",
    "\n",
    "    # Iterate through subfolders in the dataset path\n",
    "    for class_folder in os.listdir(dataset_path):\n",
    "        class_path = os.path.join(dataset_path, class_folder)\n",
    "\n",
    "        # Iterate through spectrogram files in the class folder\n",
    "        for file_name in os.listdir(class_path):\n",
    "            if file_name.endswith('.png'):\n",
    "                file_path = os.path.join(class_path, file_name)\n",
    "\n",
    "                # Read and resize the spectrogram image\n",
    "                img = cv2.imread(file_path, cv2.IMREAD_GRAYSCALE)\n",
    "                if img is not None:\n",
    "                    # Resize the spectrogram image\n",
    "                    img = cv2.resize(img, (224, 224))  # Adjust the size as needed\n",
    "\n",
    "                    # Append the spectrogram and corresponding label to the lists\n",
    "                    X.append(img)\n",
    "                    y.append(class_folder)\n",
    "\n",
    "    # Convert lists to numpy arrays\n",
    "    X = np.array(X)\n",
    "    y = np.array(y)\n",
    "\n",
    "    return X, y\n",
    "\n",
    "# Set the path to your 'specs' folder\n",
    "dataset_path = '../data/specs'\n",
    "\n",
    "# Load spectrograms and labels\n",
    "X, y = load_spectrograms(dataset_path)\n",
    "\n",
    "# Use LabelEncoder to convert string labels to numerical values\n",
    "label_encoder = LabelEncoder()\n",
    "y_encoded = label_encoder.fit_transform(y)\n",
    "\n",
    "# Split the data into training and testing sets\n",
    "X_train, X_test, y_train, y_test = train_test_split(X, y_encoded, test_size=0.2, random_state=42)\n",
    "\n",
    "# Optionally, further split the training set into training and validation sets\n",
    "# X_train, X_val, y_train, y_val = train_test_split(X_train, y_train, test_size=0.2, random_state=42)\n"
   ]
  }
 ],
 "metadata": {
  "kernelspec": {
   "display_name": "speech",
   "language": "python",
   "name": "python3"
  },
  "language_info": {
   "codemirror_mode": {
    "name": "ipython",
    "version": 3
   },
   "file_extension": ".py",
   "mimetype": "text/x-python",
   "name": "python",
   "nbconvert_exporter": "python",
   "pygments_lexer": "ipython3",
   "version": "3.10.13"
  }
 },
 "nbformat": 4,
 "nbformat_minor": 2
}
