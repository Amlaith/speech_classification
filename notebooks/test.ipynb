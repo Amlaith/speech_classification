{
 "cells": [
  {
   "cell_type": "code",
   "execution_count": 10,
   "metadata": {},
   "outputs": [],
   "source": [
    "import requests\n",
    "\n",
    "\n",
    "r = requests.get('https://ruz.fa.ru/api/schedule/group/110687?start=2023.10.09&finish=2023.10.09&lng=1')\n",
    "r = r.json()"
   ]
  },
  {
   "cell_type": "code",
   "execution_count": 16,
   "metadata": {},
   "outputs": [
    {
     "name": "stdout",
     "output_type": "stream",
     "text": [
      "['auditorium', 'auditoriumAmount', 'auditoriumGUID', 'auditoriumOid', 'auditoriumfloor', 'author', 'beginLesson', 'building', 'buildingGid', 'buildingOid', 'contentOfLoadOid', 'contentOfLoadUID', 'contentTableOfLessonsName', 'contentTableOfLessonsOid', 'createddate', 'date', 'dateOfNest', 'dayOfWeek', 'dayOfWeekString', 'detailInfo', 'discipline', 'disciplineOid', 'disciplineinplan', 'disciplinetypeload', 'duration', 'endLesson', 'group', 'groupGUID', 'groupOid', 'groupUID', 'group_facultyname', 'group_facultyoid', 'hideincapacity', 'isBan', 'kindOfWork', 'kindOfWorkComplexity', 'kindOfWorkOid', 'kindOfWorkUid', 'lecturer', 'lecturerCustomUID', 'lecturerEmail', 'lecturerGUID', 'lecturerOid', 'lecturerUID', 'lecturer_post_oid', 'lecturer_rank', 'lecturer_title', 'lessonNumberEnd', 'lessonNumberStart', 'lessonOid', 'listGroups', 'listOfLecturers', 'modifieddate', 'note', 'note_description', 'openlesson', 'parentSchedule_Status', 'parentschedule', 'replaces', 'specialization_name', 'specialization_oid', 'stream', 'streamOid', 'stream_facultyoid', 'subGroup', 'subGroupOid', 'subgroup_facultyoid', 'subgroup_groupOid', 'tableofLessonsName', 'tableofLessonsOid', 'url1', 'url1_description', 'url2', 'url2_description']\n",
      "['auditorium', 'auditoriumAmount', 'auditoriumGUID', 'auditoriumOid', 'auditoriumfloor', 'author', 'beginLesson', 'building', 'buildingGid', 'buildingOid', 'contentOfLoadOid', 'contentOfLoadUID', 'contentTableOfLessonsName', 'contentTableOfLessonsOid', 'createddate', 'date', 'dateOfNest', 'dayOfWeek', 'dayOfWeekString', 'detailInfo', 'discipline', 'disciplineOid', 'disciplineinplan', 'disciplinetypeload', 'duration', 'endLesson', 'group', 'groupGUID', 'groupOid', 'groupUID', 'group_facultyname', 'group_facultyoid', 'hideincapacity', 'isBan', 'kindOfWork', 'kindOfWorkComplexity', 'kindOfWorkOid', 'kindOfWorkUid', 'lecturer', 'lecturerCustomUID', 'lecturerEmail', 'lecturerGUID', 'lecturerOid', 'lecturerUID', 'lecturer_post_oid', 'lecturer_rank', 'lecturer_title', 'lessonNumberEnd', 'lessonNumberStart', 'lessonOid', 'listGroups', 'listOfLecturers', 'modifieddate', 'note', 'note_description', 'openlesson', 'parentSchedule_Status', 'parentschedule', 'replaces', 'specialization_name', 'specialization_oid', 'stream', 'streamOid', 'stream_facultyoid', 'subGroup', 'subGroupOid', 'subgroup_facultyoid', 'subgroup_groupOid', 'tableofLessonsName', 'tableofLessonsOid', 'url1', 'url1_description', 'url2', 'url2_description']\n",
      "['auditorium', 'auditoriumAmount', 'auditoriumGUID', 'auditoriumOid', 'auditoriumfloor', 'author', 'beginLesson', 'building', 'buildingGid', 'buildingOid', 'contentOfLoadOid', 'contentOfLoadUID', 'contentTableOfLessonsName', 'contentTableOfLessonsOid', 'createddate', 'date', 'dateOfNest', 'dayOfWeek', 'dayOfWeekString', 'detailInfo', 'discipline', 'disciplineOid', 'disciplineinplan', 'disciplinetypeload', 'duration', 'endLesson', 'group', 'groupGUID', 'groupOid', 'groupUID', 'group_facultyname', 'group_facultyoid', 'hideincapacity', 'isBan', 'kindOfWork', 'kindOfWorkComplexity', 'kindOfWorkOid', 'kindOfWorkUid', 'lecturer', 'lecturerCustomUID', 'lecturerEmail', 'lecturerGUID', 'lecturerOid', 'lecturerUID', 'lecturer_post_oid', 'lecturer_rank', 'lecturer_title', 'lessonNumberEnd', 'lessonNumberStart', 'lessonOid', 'listGroups', 'listOfLecturers', 'modifieddate', 'note', 'note_description', 'openlesson', 'parentSchedule_Status', 'parentschedule', 'replaces', 'specialization_name', 'specialization_oid', 'stream', 'streamOid', 'stream_facultyoid', 'subGroup', 'subGroupOid', 'subgroup_facultyoid', 'subgroup_groupOid', 'tableofLessonsName', 'tableofLessonsOid', 'url1', 'url1_description', 'url2', 'url2_description']\n",
      "['auditorium', 'auditoriumAmount', 'auditoriumGUID', 'auditoriumOid', 'auditoriumfloor', 'author', 'beginLesson', 'building', 'buildingGid', 'buildingOid', 'contentOfLoadOid', 'contentOfLoadUID', 'contentTableOfLessonsName', 'contentTableOfLessonsOid', 'createddate', 'date', 'dateOfNest', 'dayOfWeek', 'dayOfWeekString', 'detailInfo', 'discipline', 'disciplineOid', 'disciplineinplan', 'disciplinetypeload', 'duration', 'endLesson', 'group', 'groupGUID', 'groupOid', 'groupUID', 'group_facultyname', 'group_facultyoid', 'hideincapacity', 'isBan', 'kindOfWork', 'kindOfWorkComplexity', 'kindOfWorkOid', 'kindOfWorkUid', 'lecturer', 'lecturerCustomUID', 'lecturerEmail', 'lecturerGUID', 'lecturerOid', 'lecturerUID', 'lecturer_post_oid', 'lecturer_rank', 'lecturer_title', 'lessonNumberEnd', 'lessonNumberStart', 'lessonOid', 'listGroups', 'listOfLecturers', 'modifieddate', 'note', 'note_description', 'openlesson', 'parentSchedule_Status', 'parentschedule', 'replaces', 'specialization_name', 'specialization_oid', 'stream', 'streamOid', 'stream_facultyoid', 'subGroup', 'subGroupOid', 'subgroup_facultyoid', 'subgroup_groupOid', 'tableofLessonsName', 'tableofLessonsOid', 'url1', 'url1_description', 'url2', 'url2_description']\n",
      "['auditorium', 'auditoriumAmount', 'auditoriumGUID', 'auditoriumOid', 'auditoriumfloor', 'author', 'beginLesson', 'building', 'buildingGid', 'buildingOid', 'contentOfLoadOid', 'contentOfLoadUID', 'contentTableOfLessonsName', 'contentTableOfLessonsOid', 'createddate', 'date', 'dateOfNest', 'dayOfWeek', 'dayOfWeekString', 'detailInfo', 'discipline', 'disciplineOid', 'disciplineinplan', 'disciplinetypeload', 'duration', 'endLesson', 'group', 'groupGUID', 'groupOid', 'groupUID', 'group_facultyname', 'group_facultyoid', 'hideincapacity', 'isBan', 'kindOfWork', 'kindOfWorkComplexity', 'kindOfWorkOid', 'kindOfWorkUid', 'lecturer', 'lecturerCustomUID', 'lecturerEmail', 'lecturerGUID', 'lecturerOid', 'lecturerUID', 'lecturer_post_oid', 'lecturer_rank', 'lecturer_title', 'lessonNumberEnd', 'lessonNumberStart', 'lessonOid', 'listGroups', 'listOfLecturers', 'modifieddate', 'note', 'note_description', 'openlesson', 'parentSchedule_Status', 'parentschedule', 'replaces', 'specialization_name', 'specialization_oid', 'stream', 'streamOid', 'stream_facultyoid', 'subGroup', 'subGroupOid', 'subgroup_facultyoid', 'subgroup_groupOid', 'tableofLessonsName', 'tableofLessonsOid', 'url1', 'url1_description', 'url2', 'url2_description']\n",
      "['auditorium', 'auditoriumAmount', 'auditoriumGUID', 'auditoriumOid', 'auditoriumfloor', 'author', 'beginLesson', 'building', 'buildingGid', 'buildingOid', 'contentOfLoadOid', 'contentOfLoadUID', 'contentTableOfLessonsName', 'contentTableOfLessonsOid', 'createddate', 'date', 'dateOfNest', 'dayOfWeek', 'dayOfWeekString', 'detailInfo', 'discipline', 'disciplineOid', 'disciplineinplan', 'disciplinetypeload', 'duration', 'endLesson', 'group', 'groupGUID', 'groupOid', 'groupUID', 'group_facultyname', 'group_facultyoid', 'hideincapacity', 'isBan', 'kindOfWork', 'kindOfWorkComplexity', 'kindOfWorkOid', 'kindOfWorkUid', 'lecturer', 'lecturerCustomUID', 'lecturerEmail', 'lecturerGUID', 'lecturerOid', 'lecturerUID', 'lecturer_post_oid', 'lecturer_rank', 'lecturer_title', 'lessonNumberEnd', 'lessonNumberStart', 'lessonOid', 'listGroups', 'listOfLecturers', 'modifieddate', 'note', 'note_description', 'openlesson', 'parentSchedule_Status', 'parentschedule', 'replaces', 'specialization_name', 'specialization_oid', 'stream', 'streamOid', 'stream_facultyoid', 'subGroup', 'subGroupOid', 'subgroup_facultyoid', 'subgroup_groupOid', 'tableofLessonsName', 'tableofLessonsOid', 'url1', 'url1_description', 'url2', 'url2_description']\n"
     ]
    }
   ],
   "source": [
    "for item in r:\n",
    "    print(list(item.keys()))"
   ]
  },
  {
   "cell_type": "code",
   "execution_count": 24,
   "metadata": {},
   "outputs": [
    {
     "name": "stdout",
     "output_type": "stream",
     "text": [
      "2023.10.18\n",
      "2023.10.19\n"
     ]
    }
   ],
   "source": []
  },
  {
   "cell_type": "code",
   "execution_count": 4,
   "metadata": {},
   "outputs": [
    {
     "data": {
      "text/plain": [
       "True"
      ]
     },
     "execution_count": 4,
     "metadata": {},
     "output_type": "execute_result"
    }
   ],
   "source": []
  }
 ],
 "metadata": {
  "kernelspec": {
   "display_name": "speech",
   "language": "python",
   "name": "python3"
  },
  "language_info": {
   "codemirror_mode": {
    "name": "ipython",
    "version": 3
   },
   "file_extension": ".py",
   "mimetype": "text/x-python",
   "name": "python",
   "nbconvert_exporter": "python",
   "pygments_lexer": "ipython3",
   "version": "3.12.0"
  }
 },
 "nbformat": 4,
 "nbformat_minor": 2
}
