{
 "cells": [
  {
   "cell_type": "code",
   "execution_count": 26,
   "metadata": {},
   "outputs": [
    {
     "name": "stderr",
     "output_type": "stream",
     "text": [
      "c:\\Users\\burjo\\miniconda3\\envs\\speech\\lib\\site-packages\\librosa\\core\\pitch.py:101: UserWarning: Trying to estimate tuning from empty frequency set.\n",
      "  return pitch_tuning(\n"
     ]
    }
   ],
   "source": [
    "import os\n",
    "import librosa\n",
    "import numpy as np\n",
    "from tensorflow.keras.utils import to_categorical\n",
    "from scipy.stats import skew\n",
    "\n",
    "# Function to extract features from an audio file (you may need to adjust it based on your feature extraction method)\n",
    "def extract_features(file_path):\n",
    "    y, sr = librosa.load(file_path)\n",
    "\n",
    "    # Extract Mel-Frequency Cepstral Coefficients (MFCCs)\n",
    "    mfccs = librosa.feature.mfcc(y=y, sr=sr, n_mfcc=13)\n",
    "\n",
    "    # Extract Chroma feature\n",
    "    chroma = librosa.feature.chroma_stft(y=y, sr=sr)\n",
    "\n",
    "    # Extract Spectral Contrast feature\n",
    "    contrast = librosa.feature.spectral_contrast(y=y, sr=sr)\n",
    "\n",
    "    # Concatenate the features\n",
    "    features = np.vstack([mfccs, chroma, contrast])\n",
    "\n",
    "    return features\n",
    "\n",
    "# Function to create sequences for LSTM\n",
    "def create_sequences(data, sequence_length):\n",
    "    sequences = []\n",
    "    for i in range(len(data) - sequence_length + 1):\n",
    "        sequence = data[i:i + sequence_length]\n",
    "        sequences.append(sequence)\n",
    "    return np.array(sequences)\n",
    "\n",
    "# Directory path where your dataset is located\n",
    "dataset_path = '../data/audio'\n",
    "\n",
    "# Initialize lists to store data and labels\n",
    "data = []\n",
    "labels = []\n",
    "\n",
    "# Parameters\n",
    "sequence_length = 50  # Adjust as needed\n",
    "num_classes = len(os.listdir(dataset_path))\n",
    "\n",
    "# Iterate through each class folder\n",
    "for class_index, class_folder in enumerate(os.listdir(dataset_path)):\n",
    "    class_path = os.path.join(dataset_path, class_folder)\n",
    "\n",
    "    # Iterate through each audio file in the class folder\n",
    "    for audio_file in os.listdir(class_path):\n",
    "        audio_path = os.path.join(class_path, audio_file)\n",
    "\n",
    "        # Extract features from the audio file\n",
    "        features = extract_features(audio_path)\n",
    "\n",
    "        # Create sequences from the features\n",
    "        sequences = create_sequences(features.T, sequence_length)\n",
    "\n",
    "        # Append sequences and corresponding label to the lists\n",
    "        data.extend(sequences)\n",
    "        labels.extend([class_index] * len(sequences))\n",
    "\n",
    "# Convert to numpy arrays\n",
    "data = np.array(data)\n",
    "labels = to_categorical(labels, num_classes=num_classes)\n",
    "\n",
    "# Shuffle the data\n",
    "indices = np.arange(data.shape[0])\n",
    "np.random.shuffle(indices)\n",
    "data = data[indices]\n",
    "labels = labels[indices]\n",
    "\n"
   ]
  },
  {
   "cell_type": "code",
   "execution_count": 30,
   "metadata": {},
   "outputs": [
    {
     "name": "stdout",
     "output_type": "stream",
     "text": [
      "Epoch 1/10\n",
      "1/1 [==============================] - 2s 2s/step - loss: 173.3006 - accuracy: 0.4000 - val_loss: 145.5601 - val_accuracy: 0.5000 - lr: 0.0010\n",
      "Epoch 2/10\n",
      "1/1 [==============================] - 0s 56ms/step - loss: 289.0523 - accuracy: 0.2000 - val_loss: 93.9360 - val_accuracy: 0.0000e+00 - lr: 0.0010\n",
      "Epoch 3/10\n",
      "1/1 [==============================] - 0s 56ms/step - loss: 108.8250 - accuracy: 0.4000 - val_loss: 173.8676 - val_accuracy: 0.0000e+00 - lr: 0.0010\n",
      "Epoch 4/10\n",
      "1/1 [==============================] - 0s 57ms/step - loss: 312.4814 - accuracy: 0.2000 - val_loss: 71.0085 - val_accuracy: 0.5000 - lr: 0.0010\n",
      "Epoch 5/10\n",
      "1/1 [==============================] - 0s 55ms/step - loss: 288.9499 - accuracy: 0.4000 - val_loss: 328.4349 - val_accuracy: 0.0000e+00 - lr: 0.0010\n",
      "Epoch 6/10\n",
      "1/1 [==============================] - 0s 56ms/step - loss: 340.4522 - accuracy: 0.2000 - val_loss: 0.0000e+00 - val_accuracy: 1.0000 - lr: 0.0010\n",
      "Epoch 7/10\n",
      "1/1 [==============================] - 0s 55ms/step - loss: 258.0496 - accuracy: 0.0000e+00 - val_loss: 318.2387 - val_accuracy: 0.0000e+00 - lr: 0.0010\n",
      "Epoch 8/10\n",
      "1/1 [==============================] - 0s 55ms/step - loss: 394.2720 - accuracy: 0.4000 - val_loss: 368.3453 - val_accuracy: 0.0000e+00 - lr: 0.0010\n",
      "Epoch 9/10\n",
      "1/1 [==============================] - 0s 57ms/step - loss: 270.4999 - accuracy: 0.2000 - val_loss: 95.2597 - val_accuracy: 0.0000e+00 - lr: 0.0010\n",
      "Epoch 10/10\n",
      "1/1 [==============================] - 0s 56ms/step - loss: 245.9015 - accuracy: 0.0000e+00 - val_loss: 64.1230 - val_accuracy: 0.5000 - lr: 2.0000e-04\n",
      "1/1 [==============================] - 0s 36ms/step - loss: 64.1230 - accuracy: 0.5000\n",
      "Test Loss: 64.12297821044922, Test Accuracy: 0.5\n"
     ]
    }
   ],
   "source": [
    "import tensorflow as tf\n",
    "from tensorflow.keras.models import Sequential\n",
    "from tensorflow.keras.layers import LSTM, Dense, Dropout\n",
    "from sklearn.model_selection import train_test_split\n",
    "from tensorflow.keras.callbacks import ReduceLROnPlateau\n",
    "\n",
    "# Split the dataset into training and testing sets\n",
    "X_train, X_test, y_train, y_test = train_test_split(data, labels, test_size=0.2, random_state=42)\n",
    "\n",
    "# Build an LSTM model\n",
    "model = Sequential()\n",
    "model.add(LSTM(units=50, input_shape=(X_train.shape[1], X_train.shape[2]), activation='relu'))\n",
    "model.add(Dense(units=labels.shape[1], activation='softmax'))\n",
    "\n",
    "# Compile the model\n",
    "model.compile(loss='categorical_crossentropy', optimizer='adam', metrics=['accuracy'])\n",
    "\n",
    "# Reduce learning rate if the validation loss plateaus\n",
    "reduce_lr = ReduceLROnPlateau(monitor='val_loss', factor=0.2, patience=3, min_lr=1e-6)\n",
    "\n",
    "# Train the model\n",
    "model.fit(X_train, y_train, epochs=10, batch_size=32, validation_data=(X_test, y_test), callbacks=[reduce_lr])\n",
    "\n",
    "# Evaluate the model on the test set\n",
    "loss, accuracy = model.evaluate(X_test, y_test)\n",
    "print(f'Test Loss: {loss}, Test Accuracy: {accuracy}')\n",
    "\n",
    "# Save the trained model\n",
    "model.save('../app/models/lstm_model.h5')\n"
   ]
  },
  {
   "cell_type": "code",
   "execution_count": 20,
   "metadata": {},
   "outputs": [
    {
     "data": {
      "text/plain": [
       "(1139, 50)"
      ]
     },
     "execution_count": 20,
     "metadata": {},
     "output_type": "execute_result"
    }
   ],
   "source": [
    "data.shape"
   ]
  }
 ],
 "metadata": {
  "kernelspec": {
   "display_name": "speech",
   "language": "python",
   "name": "python3"
  },
  "language_info": {
   "codemirror_mode": {
    "name": "ipython",
    "version": 3
   },
   "file_extension": ".py",
   "mimetype": "text/x-python",
   "name": "python",
   "nbconvert_exporter": "python",
   "pygments_lexer": "ipython3",
   "version": "3.10.13"
  }
 },
 "nbformat": 4,
 "nbformat_minor": 2
}
