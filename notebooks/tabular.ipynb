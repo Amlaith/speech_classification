{
 "cells": [
  {
   "cell_type": "code",
   "execution_count": 4,
   "metadata": {},
   "outputs": [],
   "source": [
    "import os\n",
    "import librosa\n",
    "import pandas as pd\n",
    "\n",
    "# Function to extract features from an audio file\n",
    "def extract_features(file_path):\n",
    "    # Example: Use librosa to extract MFCC features\n",
    "    audio, sr = librosa.load(file_path)\n",
    "    mfccs = librosa.feature.mfcc(y=audio, sr=sr, n_mfcc=13)\n",
    "\n",
    "    # Example: Calculate mean of MFCCs\n",
    "    mfccs_mean = mfccs.mean(axis=1)\n",
    "\n",
    "    return mfccs_mean\n",
    "\n",
    "# Directory path where your dataset is located\n",
    "dataset_path = '../data/audio'\n",
    "\n",
    "# Initialize lists to store data\n",
    "data = []\n",
    "labels = []\n",
    "\n",
    "# Iterate through each class folder\n",
    "for class_folder in os.listdir(dataset_path):\n",
    "    class_path = os.path.join(dataset_path, class_folder)\n",
    "\n",
    "    # Iterate through each audio file in the class folder\n",
    "    for audio_file in os.listdir(class_path):\n",
    "        audio_path = os.path.join(class_path, audio_file)\n",
    "\n",
    "        # Extract features from the audio file\n",
    "        features = extract_features(audio_path)\n",
    "\n",
    "        # Append features and corresponding label to the lists\n",
    "        data.append(features)\n",
    "        labels.append(class_folder)\n",
    "\n",
    "# Create a DataFrame from the lists\n",
    "df = pd.DataFrame(data, columns=[f'mfcc_{i}' for i in range(len(data[0]))])\n",
    "df['label'] = labels\n"
   ]
  },
  {
   "cell_type": "code",
   "execution_count": 5,
   "metadata": {},
   "outputs": [
    {
     "data": {
      "text/html": [
       "<div>\n",
       "<style scoped>\n",
       "    .dataframe tbody tr th:only-of-type {\n",
       "        vertical-align: middle;\n",
       "    }\n",
       "\n",
       "    .dataframe tbody tr th {\n",
       "        vertical-align: top;\n",
       "    }\n",
       "\n",
       "    .dataframe thead th {\n",
       "        text-align: right;\n",
       "    }\n",
       "</style>\n",
       "<table border=\"1\" class=\"dataframe\">\n",
       "  <thead>\n",
       "    <tr style=\"text-align: right;\">\n",
       "      <th></th>\n",
       "      <th>mfcc_0</th>\n",
       "      <th>mfcc_1</th>\n",
       "      <th>mfcc_2</th>\n",
       "      <th>mfcc_3</th>\n",
       "      <th>mfcc_4</th>\n",
       "      <th>mfcc_5</th>\n",
       "      <th>mfcc_6</th>\n",
       "      <th>mfcc_7</th>\n",
       "      <th>mfcc_8</th>\n",
       "      <th>mfcc_9</th>\n",
       "      <th>mfcc_10</th>\n",
       "      <th>mfcc_11</th>\n",
       "      <th>mfcc_12</th>\n",
       "      <th>label</th>\n",
       "    </tr>\n",
       "  </thead>\n",
       "  <tbody>\n",
       "    <tr>\n",
       "      <th>0</th>\n",
       "      <td>-360.230408</td>\n",
       "      <td>87.481895</td>\n",
       "      <td>46.414539</td>\n",
       "      <td>24.779650</td>\n",
       "      <td>18.021656</td>\n",
       "      <td>21.886494</td>\n",
       "      <td>3.408688</td>\n",
       "      <td>5.293712</td>\n",
       "      <td>5.115957</td>\n",
       "      <td>-6.162708</td>\n",
       "      <td>-2.310038</td>\n",
       "      <td>-1.076668</td>\n",
       "      <td>-4.642399</td>\n",
       "      <td>news</td>\n",
       "    </tr>\n",
       "    <tr>\n",
       "      <th>1</th>\n",
       "      <td>-356.726532</td>\n",
       "      <td>68.121689</td>\n",
       "      <td>-3.132943</td>\n",
       "      <td>20.798172</td>\n",
       "      <td>4.997914</td>\n",
       "      <td>-17.470881</td>\n",
       "      <td>0.045309</td>\n",
       "      <td>5.603902</td>\n",
       "      <td>-25.335793</td>\n",
       "      <td>-8.190118</td>\n",
       "      <td>-11.272530</td>\n",
       "      <td>-9.935472</td>\n",
       "      <td>0.809734</td>\n",
       "      <td>news</td>\n",
       "    </tr>\n",
       "    <tr>\n",
       "      <th>2</th>\n",
       "      <td>-1131.370850</td>\n",
       "      <td>0.000000</td>\n",
       "      <td>0.000000</td>\n",
       "      <td>0.000000</td>\n",
       "      <td>0.000000</td>\n",
       "      <td>0.000000</td>\n",
       "      <td>0.000000</td>\n",
       "      <td>0.000000</td>\n",
       "      <td>0.000000</td>\n",
       "      <td>0.000000</td>\n",
       "      <td>0.000000</td>\n",
       "      <td>0.000000</td>\n",
       "      <td>0.000000</td>\n",
       "      <td>news</td>\n",
       "    </tr>\n",
       "    <tr>\n",
       "      <th>3</th>\n",
       "      <td>-314.654541</td>\n",
       "      <td>76.141998</td>\n",
       "      <td>16.070663</td>\n",
       "      <td>9.617281</td>\n",
       "      <td>0.760552</td>\n",
       "      <td>-2.055876</td>\n",
       "      <td>9.702311</td>\n",
       "      <td>-11.428221</td>\n",
       "      <td>-13.339287</td>\n",
       "      <td>-3.256329</td>\n",
       "      <td>-15.668971</td>\n",
       "      <td>0.882981</td>\n",
       "      <td>-11.925661</td>\n",
       "      <td>news</td>\n",
       "    </tr>\n",
       "    <tr>\n",
       "      <th>4</th>\n",
       "      <td>-350.341522</td>\n",
       "      <td>60.137329</td>\n",
       "      <td>-1.744141</td>\n",
       "      <td>17.218365</td>\n",
       "      <td>-19.416693</td>\n",
       "      <td>-5.951996</td>\n",
       "      <td>2.844842</td>\n",
       "      <td>-13.331096</td>\n",
       "      <td>-7.217333</td>\n",
       "      <td>-2.352494</td>\n",
       "      <td>-14.687024</td>\n",
       "      <td>-2.680267</td>\n",
       "      <td>-14.142367</td>\n",
       "      <td>news</td>\n",
       "    </tr>\n",
       "  </tbody>\n",
       "</table>\n",
       "</div>"
      ],
      "text/plain": [
       "        mfcc_0     mfcc_1     mfcc_2     mfcc_3     mfcc_4     mfcc_5  \\\n",
       "0  -360.230408  87.481895  46.414539  24.779650  18.021656  21.886494   \n",
       "1  -356.726532  68.121689  -3.132943  20.798172   4.997914 -17.470881   \n",
       "2 -1131.370850   0.000000   0.000000   0.000000   0.000000   0.000000   \n",
       "3  -314.654541  76.141998  16.070663   9.617281   0.760552  -2.055876   \n",
       "4  -350.341522  60.137329  -1.744141  17.218365 -19.416693  -5.951996   \n",
       "\n",
       "     mfcc_6     mfcc_7     mfcc_8    mfcc_9    mfcc_10   mfcc_11    mfcc_12  \\\n",
       "0  3.408688   5.293712   5.115957 -6.162708  -2.310038 -1.076668  -4.642399   \n",
       "1  0.045309   5.603902 -25.335793 -8.190118 -11.272530 -9.935472   0.809734   \n",
       "2  0.000000   0.000000   0.000000  0.000000   0.000000  0.000000   0.000000   \n",
       "3  9.702311 -11.428221 -13.339287 -3.256329 -15.668971  0.882981 -11.925661   \n",
       "4  2.844842 -13.331096  -7.217333 -2.352494 -14.687024 -2.680267 -14.142367   \n",
       "\n",
       "  label  \n",
       "0  news  \n",
       "1  news  \n",
       "2  news  \n",
       "3  news  \n",
       "4  news  "
      ]
     },
     "execution_count": 5,
     "metadata": {},
     "output_type": "execute_result"
    }
   ],
   "source": [
    "df.head()"
   ]
  },
  {
   "cell_type": "code",
   "execution_count": 6,
   "metadata": {},
   "outputs": [],
   "source": [
    "from sklearn.model_selection import train_test_split\n",
    "\n",
    "# Data is in a DataFrame df with columns as features and a 'label' column for the class labels\n",
    "X = df.drop(columns=['label'])\n",
    "y = df['label']\n",
    "\n",
    "# Split the data into training and testing sets\n",
    "X_train, X_test, y_train, y_test = train_test_split(X, y, test_size=0.2, random_state=42)\n"
   ]
  },
  {
   "cell_type": "code",
   "execution_count": 8,
   "metadata": {},
   "outputs": [
    {
     "name": "stdout",
     "output_type": "stream",
     "text": [
      "Accuracy: 0.8571428571428571\n"
     ]
    }
   ],
   "source": [
    "from sklearn.ensemble import RandomForestClassifier\n",
    "from sklearn.metrics import accuracy_score\n",
    "from sklearn.preprocessing import StandardScaler\n",
    "from sklearn.pipeline import make_pipeline\n",
    "\n",
    "\n",
    "# Create a pipeline with a classifier (Random Forest) and a scaler (StandardScaler)\n",
    "model = make_pipeline(StandardScaler(), RandomForestClassifier(n_estimators=100))\n",
    "\n",
    "# Train the model\n",
    "model.fit(X_train, y_train)\n",
    "\n",
    "# Make predictions on the test set\n",
    "predictions = model.predict(X_test)\n",
    "\n",
    "# Evaluate the model\n",
    "accuracy = accuracy_score(y_test, predictions)\n",
    "print(f\"Accuracy: {accuracy}\")"
   ]
  },
  {
   "cell_type": "code",
   "execution_count": 11,
   "metadata": {},
   "outputs": [
    {
     "data": {
      "text/plain": [
       "['../app/models/tabular_model.joblib']"
      ]
     },
     "execution_count": 11,
     "metadata": {},
     "output_type": "execute_result"
    }
   ],
   "source": [
    "import joblib\n",
    "\n",
    "# Assuming 'model' is your trained classifier\n",
    "tabular_model = model.fit(X_train, y_train)\n",
    "\n",
    "# Save the trained model to a file\n",
    "joblib.dump(tabular_model, '../app/models/tabular_model.joblib')"
   ]
  },
  {
   "cell_type": "code",
   "execution_count": 13,
   "metadata": {},
   "outputs": [
    {
     "data": {
      "text/plain": [
       "'today'"
      ]
     },
     "execution_count": 13,
     "metadata": {},
     "output_type": "execute_result"
    },
    {
     "ename": "",
     "evalue": "",
     "output_type": "error",
     "traceback": [
      "\u001b[1;31mThe Kernel crashed while executing code in the the current cell or a previous cell. Please review the code in the cell(s) to identify a possible cause of the failure. Click <a href='https://aka.ms/vscodeJupyterKernelCrash'>here</a> for more info. View Jupyter <a href='command:jupyter.viewOutput'>log</a> for further details."
     ]
    }
   ],
   "source": [
    "audio, sr = librosa.load('../data/audio/today/mp3-output-ttsfree(dot)com (1).mp3')\n",
    "mfccs = librosa.feature.mfcc(y=audio, sr=sr, n_mfcc=13)\n",
    "\n",
    "# Example: Calculate mean of MFCCs\n",
    "mfccs_mean = [mfccs.mean(axis=1)]\n",
    "\n",
    "features = pd.DataFrame(mfccs_mean, columns=[f'mfcc_{i}' for i in range(len(mfccs_mean[0]))])\n",
    "\n",
    "loaded_tabular_model = joblib.load('../app/models/tabular_model.joblib')\n",
    "\n",
    "predictions = loaded_tabular_model.predict(features)\n",
    "\n",
    "predictions[0]"
   ]
  }
 ],
 "metadata": {
  "kernelspec": {
   "display_name": "speech",
   "language": "python",
   "name": "python3"
  },
  "language_info": {
   "codemirror_mode": {
    "name": "ipython",
    "version": 3
   },
   "file_extension": ".py",
   "mimetype": "text/x-python",
   "name": "python",
   "nbconvert_exporter": "python",
   "pygments_lexer": "ipython3",
   "version": "3.10.13"
  }
 },
 "nbformat": 4,
 "nbformat_minor": 2
}
