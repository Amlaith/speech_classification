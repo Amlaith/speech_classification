{
 "cells": [
  {
   "cell_type": "code",
   "execution_count": 9,
   "metadata": {},
   "outputs": [
    {
     "name": "stderr",
     "output_type": "stream",
     "text": [
      "C:\\Users\\burjo\\AppData\\Local\\Temp\\ipykernel_4604\\1740106383.py:9: UserWarning: PySoundFile failed. Trying audioread instead.\n",
      "  audio, sample_rate = librosa.load(file_path)\n",
      "c:\\Users\\burjo\\miniconda3\\envs\\speech\\lib\\site-packages\\librosa\\core\\audio.py:183: FutureWarning: librosa.core.audio.__audioread_load\n",
      "\tDeprecated as of librosa version 0.10.0.\n",
      "\tIt will be removed in librosa version 1.0.\n",
      "  y, sr_native = __audioread_load(path, offset, duration, dtype)\n"
     ]
    }
   ],
   "source": [
    "import os\n",
    "import librosa\n",
    "import numpy as np\n",
    "from sklearn.preprocessing import StandardScaler\n",
    "from sklearn.preprocessing import LabelEncoder\n",
    "\n",
    "def extract_features(file_path):\n",
    "    # Load the audio file\n",
    "    audio, sample_rate = librosa.load(file_path)\n",
    "    # Extract MFCCs\n",
    "    mfccs = librosa.feature.mfcc(y=audio, sr=sample_rate, n_mfcc=40)\n",
    "    # Average MFCCs across time\n",
    "    mfccs_processed = np.mean(mfccs.T,axis=0)\n",
    "    return mfccs_processed\n",
    "\n",
    "def load_data_and_labels(audio_dir):\n",
    "    features = []\n",
    "    labels = []\n",
    "    for label in os.listdir(audio_dir):\n",
    "        # label is a directory\n",
    "        path = os.path.join(audio_dir, label)\n",
    "        if os.path.isdir(path):\n",
    "            for file in os.listdir(path):\n",
    "                file_path = os.path.join(path, file)\n",
    "                # Extract features for each audio file\n",
    "                extracted_features = extract_features(file_path)\n",
    "                features.append(extracted_features)\n",
    "                labels.append(label)\n",
    "    return np.array(features), np.array(labels)\n",
    "\n",
    "# Directory containing the dataset\n",
    "audio_dir = '../data/recorded_audio'\n",
    "\n",
    "# Load data and labels\n",
    "features, labels = load_data_and_labels(audio_dir)\n",
    "\n",
    "# Normalize features\n",
    "scaler = StandardScaler()\n",
    "normalized_features = scaler.fit_transform(features)\n",
    "\n",
    "# Encode the labels\n",
    "label_encoder = LabelEncoder()\n",
    "encoded_labels = label_encoder.fit_transform(labels)\n"
   ]
  },
  {
   "cell_type": "code",
   "execution_count": 10,
   "metadata": {},
   "outputs": [
    {
     "name": "stdout",
     "output_type": "stream",
     "text": [
      "Accuracy: 0.90625\n",
      "Confusion Matrix:\n",
      " [[ 7  1  0]\n",
      " [ 2  9  0]\n",
      " [ 0  0 13]]\n",
      "Classification Report:\n",
      "               precision    recall  f1-score   support\n",
      "\n",
      "           0       0.78      0.88      0.82         8\n",
      "           1       0.90      0.82      0.86        11\n",
      "           2       1.00      1.00      1.00        13\n",
      "\n",
      "    accuracy                           0.91        32\n",
      "   macro avg       0.89      0.90      0.89        32\n",
      "weighted avg       0.91      0.91      0.91        32\n",
      "\n"
     ]
    }
   ],
   "source": [
    "from sklearn.model_selection import train_test_split\n",
    "from sklearn.neighbors import KNeighborsClassifier\n",
    "from sklearn.metrics import classification_report, confusion_matrix, accuracy_score\n",
    "\n",
    "# Splitting the dataset into training and testing sets\n",
    "X_train, X_test, y_train, y_test = train_test_split(normalized_features, encoded_labels, test_size=0.2, random_state=74)\n",
    "\n",
    "# Initialize the kNN model\n",
    "# You might want to experiment with different values of 'k'\n",
    "knn = KNeighborsClassifier(n_neighbors=5)\n",
    "\n",
    "# Train the model\n",
    "knn.fit(X_train, y_train)\n",
    "\n",
    "# Predict on the test set\n",
    "y_pred = knn.predict(X_test)\n",
    "\n",
    "# Evaluate the model\n",
    "print(\"Accuracy:\", accuracy_score(y_test, y_pred))\n",
    "print(\"Confusion Matrix:\\n\", confusion_matrix(y_test, y_pred))\n",
    "print(\"Classification Report:\\n\", classification_report(y_test, y_pred))\n"
   ]
  },
  {
   "cell_type": "code",
   "execution_count": 13,
   "metadata": {},
   "outputs": [
    {
     "name": "stdout",
     "output_type": "stream",
     "text": [
      "Fitting 5 folds for each of 96 candidates, totalling 480 fits\n",
      "Best Parameters: {'algorithm': 'ball_tree', 'metric': 'manhattan', 'n_neighbors': 15, 'weights': 'distance'}\n",
      "Best Cross-Validation Score: 0.8587692307692307\n",
      "Test Set Accuracy: 0.875\n"
     ]
    }
   ],
   "source": [
    "from sklearn.model_selection import GridSearchCV\n",
    "\n",
    "# Define the parameter grid\n",
    "param_grid = {\n",
    "    'n_neighbors': [3, 7, 11, 13, 15, 18],  # Different values for k\n",
    "    'weights': ['uniform', 'distance'],\n",
    "    'metric': ['euclidean', 'manhattan'],\n",
    "    'algorithm': ['ball_tree', 'kd_tree', 'brute', 'auto']\n",
    "}\n",
    "\n",
    "# Initialize the kNN model\n",
    "knn = KNeighborsClassifier()\n",
    "\n",
    "# Initialize the GridSearch with cross-validation\n",
    "grid_search = GridSearchCV(knn, param_grid, cv=5, verbose=1, scoring='accuracy')\n",
    "\n",
    "# Fit the grid search to the data\n",
    "grid_search.fit(X_train, y_train)\n",
    "\n",
    "# Best parameters found\n",
    "best_params = grid_search.best_params_\n",
    "best_score = grid_search.best_score_\n",
    "\n",
    "print(\"Best Parameters:\", best_params)\n",
    "print(\"Best Cross-Validation Score:\", best_score)\n",
    "\n",
    "# Evaluate the best model on the test set\n",
    "best_knn = grid_search.best_estimator_\n",
    "y_pred = best_knn.predict(X_test)\n",
    "print(\"Test Set Accuracy:\", accuracy_score(y_test, y_pred))\n"
   ]
  },
  {
   "cell_type": "markdown",
   "metadata": {},
   "source": [
    "## More features"
   ]
  },
  {
   "cell_type": "code",
   "execution_count": 29,
   "metadata": {},
   "outputs": [
    {
     "name": "stderr",
     "output_type": "stream",
     "text": [
      "C:\\Users\\burjo\\AppData\\Local\\Temp\\ipykernel_4604\\2372980304.py:9: UserWarning: PySoundFile failed. Trying audioread instead.\n",
      "  audio, sample_rate = librosa.load(file_path)\n",
      "c:\\Users\\burjo\\miniconda3\\envs\\speech\\lib\\site-packages\\librosa\\core\\audio.py:183: FutureWarning: librosa.core.audio.__audioread_load\n",
      "\tDeprecated as of librosa version 0.10.0.\n",
      "\tIt will be removed in librosa version 1.0.\n",
      "  y, sr_native = __audioread_load(path, offset, duration, dtype)\n"
     ]
    }
   ],
   "source": [
    "import os\n",
    "import librosa\n",
    "import numpy as np\n",
    "from sklearn.preprocessing import StandardScaler\n",
    "from sklearn.preprocessing import LabelEncoder\n",
    "\n",
    "def extract_features(file_path):\n",
    "    # Load the audio file\n",
    "    audio, sample_rate = librosa.load(file_path)\n",
    "    \n",
    "    # Extracting different types of features\n",
    "    mfccs = librosa.feature.mfcc(y=audio, sr=sample_rate, n_mfcc=40)\n",
    "    chroma = librosa.feature.chroma_stft(y=audio, sr=sample_rate)\n",
    "    mel = librosa.feature.melspectrogram(y=audio, sr=sample_rate)\n",
    "    contrast = librosa.feature.spectral_contrast(y=audio, sr=sample_rate)\n",
    "    zero_crossing_rate = librosa.feature.zero_crossing_rate(audio)\n",
    "\n",
    "    # Averaging across time\n",
    "    mfccs_processed = np.mean(mfccs.T, axis=0)\n",
    "    chroma_processed = np.mean(chroma.T, axis=0)\n",
    "    mel_processed = np.mean(mel.T, axis=0)\n",
    "    contrast_processed = np.mean(contrast.T, axis=0)\n",
    "    zero_crossing_rate_processed = np.mean(zero_crossing_rate)\n",
    "\n",
    "    # Concatenating all features\n",
    "    return np.hstack([mfccs_processed, chroma_processed, mel_processed, contrast_processed, zero_crossing_rate_processed])\n",
    "\n",
    "\n",
    "def load_data_and_labels(audio_dir):\n",
    "    features = []\n",
    "    labels = []\n",
    "    for label in os.listdir(audio_dir):\n",
    "        # label is a directory\n",
    "        path = os.path.join(audio_dir, label)\n",
    "        if os.path.isdir(path):\n",
    "            for file in os.listdir(path):\n",
    "                file_path = os.path.join(path, file)\n",
    "                # Extract features for each audio file\n",
    "                extracted_features = extract_features(file_path)\n",
    "                features.append(extracted_features)\n",
    "                labels.append(label)\n",
    "    return np.array(features), np.array(labels)\n",
    "\n",
    "# Directory containing the dataset\n",
    "audio_dir = '../data/recorded_audio'\n",
    "\n",
    "# Load data and labels\n",
    "features, labels = load_data_and_labels(audio_dir)\n",
    "\n",
    "# Normalize features\n",
    "scaler = StandardScaler()\n",
    "normalized_features = scaler.fit_transform(features)\n",
    "\n",
    "# Encode the labels\n",
    "label_encoder = LabelEncoder()\n",
    "encoded_labels = label_encoder.fit_transform(labels)\n"
   ]
  },
  {
   "cell_type": "code",
   "execution_count": 23,
   "metadata": {},
   "outputs": [
    {
     "data": {
      "text/plain": [
       "(159, 176)"
      ]
     },
     "execution_count": 23,
     "metadata": {},
     "output_type": "execute_result"
    }
   ],
   "source": [
    "normalized_features.shape"
   ]
  },
  {
   "cell_type": "code",
   "execution_count": 30,
   "metadata": {},
   "outputs": [
    {
     "name": "stdout",
     "output_type": "stream",
     "text": [
      "Fitting 5 folds for each of 112 candidates, totalling 560 fits\n",
      "Best Parameters: {'algorithm': 'ball_tree', 'metric': 'euclidean', 'n_neighbors': 11, 'weights': 'uniform'}\n",
      "Best Cross-Validation Score: 0.8812307692307693\n",
      "Test Set Accuracy: 0.90625\n"
     ]
    }
   ],
   "source": [
    "from sklearn.model_selection import train_test_split\n",
    "from sklearn.neighbors import KNeighborsClassifier\n",
    "from sklearn.metrics import classification_report, confusion_matrix, accuracy_score\n",
    "from sklearn.model_selection import GridSearchCV\n",
    "\n",
    "# Splitting the dataset into training and testing sets\n",
    "X_train, X_test, y_train, y_test = train_test_split(normalized_features, encoded_labels, test_size=0.2, random_state=74)\n",
    "\n",
    "# Define the parameter grid\n",
    "param_grid = {\n",
    "    'n_neighbors': [3, 5, 7, 9, 11, 13, 15],  # Different values for k\n",
    "    'weights': ['uniform', 'distance'],\n",
    "    'metric': ['euclidean', 'manhattan'],\n",
    "    'algorithm': ['ball_tree', 'kd_tree', 'brute', 'auto']\n",
    "}\n",
    "\n",
    "# Initialize the kNN model\n",
    "knn = KNeighborsClassifier()\n",
    "\n",
    "# Initialize the GridSearch with cross-validation\n",
    "grid_search = GridSearchCV(knn, param_grid, cv=5, verbose=1, scoring='accuracy')\n",
    "\n",
    "# Fit the grid search to the data\n",
    "grid_search.fit(X_train, y_train)\n",
    "\n",
    "# Best parameters found\n",
    "best_params = grid_search.best_params_\n",
    "best_score = grid_search.best_score_\n",
    "\n",
    "print(\"Best Parameters:\", best_params)\n",
    "print(\"Best Cross-Validation Score:\", best_score)\n",
    "\n",
    "# Evaluate the best model on the test set\n",
    "best_knn = grid_search.best_estimator_\n",
    "y_pred = best_knn.predict(X_test)\n",
    "print(\"Test Set Accuracy:\", accuracy_score(y_test, y_pred))"
   ]
  },
  {
   "cell_type": "code",
   "execution_count": 17,
   "metadata": {},
   "outputs": [
    {
     "name": "stdout",
     "output_type": "stream",
     "text": [
      "Original Accuracy: 0.90625\n",
      "Accuracy without MFCCs: 0.8125\n",
      "Accuracy without Chroma: 0.9375\n",
      "Accuracy without Mel: 0.9375\n",
      "Accuracy without Contrast: 0.90625\n",
      "Accuracy without Zero Crossing Rate: 0.90625\n"
     ]
    }
   ],
   "source": [
    "from sklearn.neighbors import KNeighborsClassifier\n",
    "from sklearn.metrics import accuracy_score\n",
    "\n",
    "# X_train, X_test, y_train, y_test are already defined\n",
    "original_model = KNeighborsClassifier(n_neighbors=5)\n",
    "original_model.fit(X_train, y_train)\n",
    "original_accuracy = accuracy_score(y_test, original_model.predict(X_test))\n",
    "\n",
    "# Define the size of each feature group\n",
    "feature_sizes = {\n",
    "    'MFCCs': 40,       # 40 MFCC features\n",
    "    'Chroma': 12,      # 12 Chroma features\n",
    "    'Mel': 128,        # 128 Mel features\n",
    "    'Contrast': 7,     # 7 Contrast features\n",
    "    'Zero Crossing Rate': 1  # 1 feature for Zero Crossing Rate\n",
    "}\n",
    "\n",
    "feature_accuracies = []\n",
    "start_index = 0\n",
    "\n",
    "for feature_name, size in feature_sizes.items():\n",
    "    # Create a new training and testing set excluding one feature group\n",
    "    X_train_reduced = np.delete(X_train, slice(start_index, start_index + size), axis=1)\n",
    "    X_test_reduced = np.delete(X_test, slice(start_index, start_index + size), axis=1)\n",
    "\n",
    "    # Train and evaluate the model\n",
    "    model = KNeighborsClassifier(n_neighbors=5)\n",
    "    model.fit(X_train_reduced, y_train)\n",
    "    accuracy = accuracy_score(y_test, model.predict(X_test_reduced))\n",
    "    feature_accuracies.append((feature_name, accuracy))\n",
    "\n",
    "    # Update the start index for the next feature group\n",
    "    start_index += size\n",
    "\n",
    "# Compare accuracies\n",
    "print(\"Original Accuracy:\", original_accuracy)\n",
    "for feature, accuracy in feature_accuracies:\n",
    "    print(f\"Accuracy without {feature}: {accuracy}\")\n"
   ]
  },
  {
   "cell_type": "markdown",
   "metadata": {},
   "source": [
    "## Saving the model"
   ]
  },
  {
   "cell_type": "code",
   "execution_count": 40,
   "metadata": {},
   "outputs": [
    {
     "data": {
      "text/plain": [
       "['../app/models/knn_scaler.joblib']"
      ]
     },
     "execution_count": 40,
     "metadata": {},
     "output_type": "execute_result"
    }
   ],
   "source": [
    "from joblib import dump\n",
    "\n",
    "dump(best_knn, '../app/models/knn_model.joblib')\n",
    "dump(scaler, '../app/models/knn_scaler.joblib')\n"
   ]
  }
 ],
 "metadata": {
  "kernelspec": {
   "display_name": "speech",
   "language": "python",
   "name": "python3"
  },
  "language_info": {
   "codemirror_mode": {
    "name": "ipython",
    "version": 3
   },
   "file_extension": ".py",
   "mimetype": "text/x-python",
   "name": "python",
   "nbconvert_exporter": "python",
   "pygments_lexer": "ipython3",
   "version": "3.10.13"
  }
 },
 "nbformat": 4,
 "nbformat_minor": 2
}
